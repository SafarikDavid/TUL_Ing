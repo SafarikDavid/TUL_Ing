{
 "cells": [
  {
   "cell_type": "markdown",
   "id": "d244b9ce",
   "metadata": {},
   "source": [
    "# Třetí cvičení - jazykové modely, perplexita\n",
    "\n",
    "## 1) Příprava dat\n",
    "\n",
    "- Soubory TEXTCZ1 a TEXTEN1 přeuspořádejte tak, aby každá věta byla na jednom řádku (jako oddělovač vět použijte tečku, otazník a vykřičník).\n",
    "- Všechny slova převeďte na lowercase"
   ]
  },
  {
   "cell_type": "code",
   "execution_count": 11,
   "id": "2294128e",
   "metadata": {},
   "outputs": [],
   "source": [
    "import re, string\n",
    "from collections import Counter\n",
    "from math import log\n",
    "import math"
   ]
  },
  {
   "cell_type": "markdown",
   "id": "59f8ef85",
   "metadata": {},
   "source": [
    "## Unigramový model\n",
    "- Vypočítejte pravděpodobnost každého ze slov\n",
    "- Vypočítejte entropii H(X) a perplexitu G(X) modelu\n",
    "\n",
    "$H(X) = - \\sum_{x}p(x)log{_2}p(x)$\n",
    "\n",
    "$G(X) = 2^{H(X)}$"
   ]
  },
  {
   "cell_type": "code",
   "execution_count": 14,
   "id": "9263d37d",
   "metadata": {},
   "outputs": [],
   "source": [
    "# Nejprve vytvořte unigramový model pro větu: \"<s> Dnes je hezký den\"\n",
    "sent = \"<s> Dnes je hezký den\"\n",
    "...\n",
    "entropy = ...\n",
    "perplexity = ...\n",
    "\n",
    "# Očekávaný výsledek: \n",
    "# entropy = 2.321928094887362\n",
    "# perplexity = 4.999999999999999\n",
    "\n"
   ]
  },
  {
   "cell_type": "code",
   "execution_count": 15,
   "id": "11fd7ff8",
   "metadata": {},
   "outputs": [],
   "source": [
    "# Nyní pro CZ a EN korpusy"
   ]
  },
  {
   "cell_type": "code",
   "execution_count": 12,
   "id": "91ff11af",
   "metadata": {},
   "outputs": [],
   "source": [
    "# Načtení souborů CZ, EN\n",
    "....\n",
    "        "
   ]
  },
  {
   "cell_type": "code",
   "execution_count": 13,
   "id": "ea1821ae",
   "metadata": {},
   "outputs": [],
   "source": [
    "# Rozdělení textů na věty, odstranění interpunkce a přidání znaku začátku věty\n",
    "...."
   ]
  },
  {
   "cell_type": "code",
   "execution_count": 16,
   "id": "3d8c4255",
   "metadata": {},
   "outputs": [
    {
     "name": "stdout",
     "output_type": "stream",
     "text": [
      "Entropy: 9.153156076444484 Perplexity: 569.3437191681389\n"
     ]
    }
   ],
   "source": [
    "# Anglický unigramový model\n",
    "\n",
    "...\n",
    "\n",
    "en_entropy = ...\n",
    "en_perplexity = ...\n",
    "\n",
    "print(f\"Entropy: {en_entropy} Perplexity: {en_perplexity}\")\n",
    "# Očekávaný výsledek: \n",
    "# en_entropy = 9.153156076444484\n",
    "# en_perplexity = 569.3437191681389"
   ]
  },
  {
   "cell_type": "code",
   "execution_count": 17,
   "id": "78260093",
   "metadata": {},
   "outputs": [
    {
     "name": "stdout",
     "output_type": "stream",
     "text": [
      "Entropy: 11.866640196670001 Perplexity: 3734.346796191333\n"
     ]
    }
   ],
   "source": [
    "# Český unigramový model\n",
    "\n",
    "...\n",
    "\n",
    "cz_entropy = ...\n",
    "cz_perplexity = ...\n",
    "\n",
    "print(f\"Entropy: {cz_entropy} Perplexity: {cz_perplexity}\")\n",
    "# Očekávaný výsledek: \n",
    "# en_entropy = 11.866640196670001\n",
    "# en_perplexity = 3734.346796191333\n"
   ]
  },
  {
   "cell_type": "markdown",
   "id": "f83a4ef1",
   "metadata": {},
   "source": [
    "## Bigramový model\n",
    "- obdobně vytvořte bigramový model a všechny dvojice slov hledejte vždy pouze ve větě (nikoliv mezi větami)\n",
    "- vypočítejte entropii a perplexitu\n",
    "\n",
    "$H(B|A) = - \\sum_{a \\in A, b \\in B}P(a,b)log{_2}P(b|a)$ \n",
    "\n",
    "$G(X) = 2^{H(B|A)}$"
   ]
  },
  {
   "cell_type": "code",
   "execution_count": 21,
   "id": "59e5a8ac",
   "metadata": {},
   "outputs": [
    {
     "name": "stdout",
     "output_type": "stream",
     "text": [
      "Entropy: 0.4 Perplexity: 1.3195079107728942\n"
     ]
    }
   ],
   "source": [
    "# Nejprve vytvořte bigramový model pro větu: \"<s> Dnes je hezký den </s>\"\n",
    "sent = [\"<s> dnes respektive dnes možná </s>\"]\n",
    "\n",
    "...\n",
    "\n",
    "entropy = ...\n",
    "perplexity = ...\n",
    "\n",
    "print(f\"Entropy: {entropy} Perplexity: {perplexity}\")\n",
    "# Očekávaný výsledek: \n",
    "# entropy = 0.4\n",
    "# perplexity = 1.3195079107728942"
   ]
  },
  {
   "cell_type": "code",
   "execution_count": 22,
   "id": "99a3dd6b",
   "metadata": {},
   "outputs": [],
   "source": [
    "# Nyní pro jednotlivé korpusy, nejprve pro CZ a pak pro EN\n",
    "\n",
    "# Přidání koncového znaku </s> do vět\n",
    "..."
   ]
  },
  {
   "cell_type": "code",
   "execution_count": 23,
   "id": "ead28457",
   "metadata": {},
   "outputs": [],
   "source": [
    "# Rozdělení na slova, tvorba slovníku a výpočet frekvencí\n",
    "..."
   ]
  },
  {
   "cell_type": "code",
   "execution_count": 24,
   "id": "504c504e",
   "metadata": {},
   "outputs": [
    {
     "name": "stdout",
     "output_type": "stream",
     "text": [
      "Entropy: 5.380173547272145 Perplexity: 41.647949062972735\n"
     ]
    }
   ],
   "source": [
    "\n",
    "....\n",
    "en_entropy = ...\n",
    "en_perplexity = ...\n",
    "\n",
    "print(f\"Entropy: {en_entropy} Perplexity: {en_perplexity}\")\n",
    "\n",
    "# Očekávaný výsledek: \n",
    "# en_entropy = 5.380173547272233\n",
    "# en_perplexity = 41.64794906297528"
   ]
  },
  {
   "cell_type": "code",
   "execution_count": 25,
   "id": "cdb9a6db",
   "metadata": {},
   "outputs": [
    {
     "name": "stdout",
     "output_type": "stream",
     "text": [
      "Entropy: 4.624183207248371 Perplexity: 24.6614070105357\n"
     ]
    }
   ],
   "source": [
    "...\n",
    "cz_entropy = ...\n",
    "cz_perplexity = ...\n",
    "\n",
    "print(f\"Entropy: {cz_entropy} Perplexity: {cz_perplexity}\")\n",
    "\n",
    "# Očekávaný výsledek: \n",
    "# cz_entropy = 4.624183207248371\n",
    "# cz_perplexity = 24.6614070105357"
   ]
  },
  {
   "cell_type": "code",
   "execution_count": null,
   "id": "39e31073",
   "metadata": {},
   "outputs": [],
   "source": [
    "#SRILM příkazy\n",
    "#ngram-count -text TEXTEN_unigram.txt -order 2 -write czbigram.count -unk\n",
    "#ngram-count -gt1max 0 -gt2max 0 -read czbigram.count -order 2 -lm czbigram.lm\n",
    "#ngram -ppl TEXTEN_unigram.txt -order 2 -lm czbigram.lm >> czbigram.ppl\n",
    "\n"
   ]
  }
 ],
 "metadata": {
  "kernelspec": {
   "display_name": "Python 3 (ipykernel)",
   "language": "python",
   "name": "python3"
  },
  "language_info": {
   "codemirror_mode": {
    "name": "ipython",
    "version": 3
   },
   "file_extension": ".py",
   "mimetype": "text/x-python",
   "name": "python",
   "nbconvert_exporter": "python",
   "pygments_lexer": "ipython3",
   "version": "3.10.9"
  }
 },
 "nbformat": 4,
 "nbformat_minor": 5
}
