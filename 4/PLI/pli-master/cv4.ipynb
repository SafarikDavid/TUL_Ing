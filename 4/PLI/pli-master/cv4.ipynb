{
 "cells": [
  {
   "cell_type": "markdown",
   "id": "d244b9ce",
   "metadata": {},
   "source": [
    "# Čtvrté cvičení - vyhlazování jazykového modelu\n",
    "- Vytvořte bigramový jazykový model vyhlazený metodou Witten-Bell pro soubor TEXTEN1\n",
    "- Soubor přeuspořádejte tak, aby každá věta byla na jednom řádku (jako oddělovač vět použijte tečku, otazník a vykřičník).\n",
    "- Všechny slova převeďte na lowercase\n",
    "- Uvažujte na začátku věty startovací symbol <s>"
   ]
  },
  {
   "cell_type": "code",
   "execution_count": 18,
   "id": "2294128e",
   "metadata": {},
   "outputs": [
    {
     "name": "stdout",
     "output_type": "stream",
     "text": [
      "0.2430128317806293\n",
      "1.917485864068185e-05\n"
     ]
    }
   ],
   "source": [
    "import re, string\n",
    "from collections import Counter\n",
    "\n",
    "def text_to_lines(text):\n",
    "    text_lined = []\n",
    "    line = [\"<s>\"]\n",
    "    for word in text:\n",
    "        word_stripped = word.strip()\n",
    "        if word_stripped in (\".\", \"?\", \"!\"):\n",
    "            text_lined.append(line)\n",
    "            line = [\"<s>\"]\n",
    "        elif word_stripped not in string.punctuation:\n",
    "            line.append(word_stripped.translate(str.maketrans('', '', string.punctuation)).lower())\n",
    "    return text_lined\n",
    "\n",
    "text_en = []\n",
    "with open('TEXTEN1.txt', 'r', encoding='UTF-8') as file_en:\n",
    "    text_en = file_en.readlines()\n",
    "\n",
    "text_en_lined = text_to_lines(text_en)\n",
    "\n",
    "pairs_counts = Counter()\n",
    "words_counts = Counter()\n",
    "\n",
    "for words in text_en_lined:\n",
    "    words_counts.update(words)\n",
    "    pairs = [f\"{words[i]} {words[i+1]}\" for i in range(len(words)-1)]\n",
    "    pairs_counts.update(pairs)\n",
    "\n",
    "vocab_size = len(words_counts)\n",
    "\n",
    "en_bigram_model = {}\n",
    "for word, _ in words_counts.items():\n",
    "    N = 1\n",
    "    T = 1\n",
    "    possible_next_words = []\n",
    "    for pair in pairs_counts.keys():\n",
    "        if pair.startswith(word): \n",
    "            N += pairs_counts[pair]\n",
    "            T += 1\n",
    "            possible_next_words.append(pair.split()[1])\n",
    "    all_possible_next_words = words_counts.keys()\n",
    "    Z = vocab_size - T\n",
    "    if T == 0:\n",
    "        T += 1\n",
    "    if N == 0:\n",
    "        N += 1\n",
    "    for next_word in set(all_possible_next_words):\n",
    "        bigram_str = f\"{word} {next_word}\"\n",
    "        c = pairs_counts[bigram_str]\n",
    "\n",
    "        if c > 0:\n",
    "            smoothed_count = c / (N + T)\n",
    "        else:\n",
    "            smoothed_count = T / (Z * (N + T))\n",
    "\n",
    "        en_bigram_model[bigram_str] = smoothed_count\n",
    "\n",
    "print(en_bigram_model[\"of the\"])\n",
    "# 0.258387066629287\n",
    "print(en_bigram_model[\"of of\"])\n",
    "# 1.6608937523330386e-05"
   ]
  },
  {
   "cell_type": "code",
   "execution_count": null,
   "id": "8c974d18-5f32-488d-af27-05b88e8e2059",
   "metadata": {},
   "outputs": [],
   "source": []
  }
 ],
 "metadata": {
  "kernelspec": {
   "display_name": "Python 3 (ipykernel)",
   "language": "python",
   "name": "python3"
  },
  "language_info": {
   "codemirror_mode": {
    "name": "ipython",
    "version": 3
   },
   "file_extension": ".py",
   "mimetype": "text/x-python",
   "name": "python",
   "nbconvert_exporter": "python",
   "pygments_lexer": "ipython3",
   "version": "3.9.18"
  }
 },
 "nbformat": 4,
 "nbformat_minor": 5
}
