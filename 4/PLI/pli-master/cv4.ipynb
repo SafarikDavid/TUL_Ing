{
 "cells": [
  {
   "cell_type": "markdown",
   "id": "d244b9ce",
   "metadata": {},
   "source": [
    "# Čtvrté cvičení - vyhlazování jazykového modelu\n",
    "- Vytvořte bigramový jazykový model vyhlazený metodou Witten-Bell pro soubor TEXTEN1\n",
    "- Soubor přeuspořádejte tak, aby každá věta byla na jednom řádku (jako oddělovač vět použijte tečku, otazník a vykřičník).\n",
    "- Všechny slova převeďte na lowercase\n",
    "- Uvažujte na začátku věty startovací symbol <s>"
   ]
  },
  {
   "cell_type": "code",
   "execution_count": 1,
   "id": "2294128e",
   "metadata": {},
   "outputs": [],
   "source": [
    "import re, string\n",
    "...\n",
    "...\n",
    "...\n",
    "print(en_bigram_model[\"of the\"])\n",
    "#0.258387066629287\n",
    "print(en_bigram_model[\"of of\"])\n",
    "#1.6608937523330386e-05"
   ]
  }
 ],
 "metadata": {
  "kernelspec": {
   "display_name": "Python 3 (ipykernel)",
   "language": "python",
   "name": "python3"
  },
  "language_info": {
   "codemirror_mode": {
    "name": "ipython",
    "version": 3
   },
   "file_extension": ".py",
   "mimetype": "text/x-python",
   "name": "python",
   "nbconvert_exporter": "python",
   "pygments_lexer": "ipython3",
   "version": "3.10.9"
  }
 },
 "nbformat": 4,
 "nbformat_minor": 5
}
