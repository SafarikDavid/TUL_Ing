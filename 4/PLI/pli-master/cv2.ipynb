{
 "cells": [
  {
   "cell_type": "markdown",
   "id": "d244b9ce",
   "metadata": {},
   "source": [
    "# Druhé cvičení - nejbližší sousedé\n",
    "\n",
    "## 1) Nalezení nejlépe asociované dvojice slov\n",
    "\n",
    "- Vytvořte funkci, která načte soubor TEXTEN1.txt\n",
    "- Odstraňte interpunkci z textu\n",
    "- Nalezněte nejlépe asociovanou dvojici pomocí bodové vzájemné informace: \n",
    "$pmi(x,y) \\equiv log{_2}{p(x,y) \\over p(x)p(y)}$\n",
    "\n",
    "- Uvažujte pouze slova, která mají výskyt větší než 9"
   ]
  },
  {
   "cell_type": "code",
   "execution_count": 1,
   "id": "2294128e",
   "metadata": {},
   "outputs": [],
   "source": [
    "import glob, os, re, string\n",
    "from math import log\n",
    "from collections import Counter"
   ]
  },
  {
   "cell_type": "code",
   "execution_count": 2,
   "id": "91ff11af",
   "metadata": {},
   "outputs": [],
   "source": [
    "def compute_pointwise_mutual_information(file):\n",
    "    \n",
    "    # Načtení souboru, odfiltrování interpunkce a prázdných řádků\n",
    "    with open(file, \"r\") as f:\n",
    "    ...\n",
    "    \n",
    "    ...\n",
    "    \n",
    "    # Výpočet vzájemné informace pro jednotlivé dvojice slov\n",
    "    results = dict()\n",
    "\n",
    "    ...\n",
    "    \n",
    "    return results\n",
    "    "
   ]
  },
  {
   "cell_type": "code",
   "execution_count": 3,
   "id": "ea1821ae",
   "metadata": {},
   "outputs": [
    {
     "name": "stdout",
     "output_type": "stream",
     "text": [
      "('La Plata', 14.005507594503369)\n"
     ]
    }
   ],
   "source": [
    "computed_result_en = compute_pointwise_mutual_information(\"TEXTEN1.txt\")\n",
    "print(computed_result_en[0])\n",
    "\n",
    "# Očekávané výsledky\n",
    "## pairs_count = 197358\n",
    "## len(pairs_set) = 78426\n",
    "## Nejlépe asociovaná dvojice: La Plata 14.005507594503369\n",
    "\n"
   ]
  },
  {
   "cell_type": "markdown",
   "id": "5000df2a",
   "metadata": {},
   "source": [
    "## 2) Nalezněte nejlépe asociovanou dvojici s okolím\n",
    "- Upravte vytvořenou funkci tak, aby nejlépe asociované dvojice slov hledala s využitím okolí 50 slov (+- 25)"
   ]
  },
  {
   "cell_type": "code",
   "execution_count": 4,
   "id": "3d8c4255",
   "metadata": {},
   "outputs": [],
   "source": [
    "def compute_pointwise_mutual_information(file, k):\n",
    "    \n",
    "    # Načtení souboru a odfiltrování interpunkce\n",
    "    with open(file, \"r\") as f:\n",
    "    \n",
    "    ....\n",
    "    \n",
    "    ....   \n",
    "    \n",
    "    # Výpočet vzájemné informace pro jednotlivé dvojice slov\n",
    "    results = dict()\n",
    "\n",
    "    ...\n",
    "    \n",
    "    return results"
   ]
  },
  {
   "cell_type": "code",
   "execution_count": null,
   "id": "78260093",
   "metadata": {},
   "outputs": [],
   "source": [
    "computed_result_en = compute_pointwise_mutual_information(\"TEXTEN1.txt\", 25)\n",
    "print(computed_result_en[0])\n",
    "\n",
    "# Očekávané výsledky\n",
    "## Nejlépe asociovaná dvojice: La Plata 9.361742783133026\n",
    "\n"
   ]
  },
  {
   "cell_type": "code",
   "execution_count": null,
   "id": "2a32bf45",
   "metadata": {},
   "outputs": [],
   "source": []
  }
 ],
 "metadata": {
  "kernelspec": {
   "display_name": "Python 3 (ipykernel)",
   "language": "python",
   "name": "python3"
  },
  "language_info": {
   "codemirror_mode": {
    "name": "ipython",
    "version": 3
   },
   "file_extension": ".py",
   "mimetype": "text/x-python",
   "name": "python",
   "nbconvert_exporter": "python",
   "pygments_lexer": "ipython3",
   "version": "3.9.7"
  }
 },
 "nbformat": 4,
 "nbformat_minor": 5
}
