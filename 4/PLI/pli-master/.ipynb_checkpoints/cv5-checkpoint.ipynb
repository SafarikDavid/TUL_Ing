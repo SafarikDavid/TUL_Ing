{
 "cells": [
  {
   "cell_type": "markdown",
   "id": "d244b9ce",
   "metadata": {},
   "source": [
    "# Páté cvičení - word2vec\n",
    "Pro toto cvičení využijte již předtrénované GloVe (50) vektory.\n",
    "\n",
    "Vektory lze stáhnout [zde (GloVe link)](https://huggingface.co/stanfordnlp/glove/resolve/main/glove.6B.zip)\n",
    "\n",
    "V archivu se nachází několik variant o různých dimenzích. Využijte dimenzi vektorů 50.\n",
    "\n",
    "## Příprava dat\n",
    "\n",
    "- Načtěte data z txt souboru (vždy je na řádku slovo a jeho vektor)\n",
    "- Slova si uložete do matice o rozměrech n x 50 (n = počet slov)\n",
    "- Vytvořte slovník, který zjistí index pro každé slovo (např. word2idx[\"slovo\"])"
   ]
  },
  {
   "cell_type": "code",
   "execution_count": 1,
   "id": "00d188e5",
   "metadata": {},
   "outputs": [],
   "source": [
    "import numpy as np\n",
    "from numpy.linalg import norm"
   ]
  },
  {
   "cell_type": "code",
   "execution_count": 2,
   "id": "2294128e",
   "metadata": {},
   "outputs": [
    {
     "ename": "FileNotFoundError",
     "evalue": "[Errno 2] No such file or directory: 'glove.6B.50d.txt'",
     "output_type": "error",
     "traceback": [
      "\u001b[1;31m---------------------------------------------------------------------------\u001b[0m",
      "\u001b[1;31mFileNotFoundError\u001b[0m                         Traceback (most recent call last)",
      "Input \u001b[1;32mIn [2]\u001b[0m, in \u001b[0;36m<module>\u001b[1;34m\u001b[0m\n\u001b[0;32m      1\u001b[0m \u001b[38;5;66;03m# Načtení dat ze souborů\u001b[39;00m\n\u001b[1;32m----> 2\u001b[0m \u001b[38;5;28;01mwith\u001b[39;00m \u001b[38;5;28;43mopen\u001b[39;49m\u001b[43m(\u001b[49m\u001b[38;5;124;43m\"\u001b[39;49m\u001b[38;5;124;43mglove.6B.50d.txt\u001b[39;49m\u001b[38;5;124;43m\"\u001b[39;49m\u001b[43m,\u001b[49m\u001b[43m \u001b[49m\u001b[38;5;124;43m\"\u001b[39;49m\u001b[38;5;124;43mr\u001b[39;49m\u001b[38;5;124;43m\"\u001b[39;49m\u001b[43m,\u001b[49m\u001b[43m \u001b[49m\u001b[43mencoding\u001b[49m\u001b[38;5;241;43m=\u001b[39;49m\u001b[38;5;124;43m\"\u001b[39;49m\u001b[38;5;124;43mutf-8\u001b[39;49m\u001b[38;5;124;43m\"\u001b[39;49m\u001b[43m)\u001b[49m \u001b[38;5;28;01mas\u001b[39;00m f:\n\u001b[0;32m      3\u001b[0m     vectors \u001b[38;5;241m=\u001b[39m f\u001b[38;5;241m.\u001b[39mread()\n\u001b[0;32m      4\u001b[0m     vectors \u001b[38;5;241m=\u001b[39m vectors\u001b[38;5;241m.\u001b[39msplit(\u001b[38;5;124m\"\u001b[39m\u001b[38;5;130;01m\\n\u001b[39;00m\u001b[38;5;124m\"\u001b[39m)\n",
      "\u001b[1;31mFileNotFoundError\u001b[0m: [Errno 2] No such file or directory: 'glove.6B.50d.txt'"
     ]
    }
   ],
   "source": [
    "# Načtení dat ze souborů\n",
    "with open(\"glove.6B.50d.txt\", \"r\", encoding=\"utf-8\") as f:\n",
    "    vectors = f.read()\n",
    "    vectors = vectors.split(\"\\n\")"
   ]
  },
  {
   "cell_type": "code",
   "execution_count": null,
   "id": "91ff11af",
   "metadata": {},
   "outputs": [],
   "source": [
    "# Uložení každého slova do slovníku a jeho příslušného vektoru\n",
    "word2idx = dict()\n",
    "matrix = np.zeros((len(vectors), 50))\n",
    "\n",
    "idx = 0\n",
    "for v in vectors:\n",
    "    data : list = v.split(\" \")\n",
    "    word : str = data[0]\n",
    "    vector : list = [float(i) for i in data[1:]]\n",
    "    if(len(vector) > 1):\n",
    "        word2idx[word] = idx\n",
    "        matrix[idx,0:] = vector\n",
    "        idx += 1\n",
    "  "
   ]
  },
  {
   "cell_type": "markdown",
   "id": "509f807c",
   "metadata": {},
   "source": [
    "## Kosinová podobnost\n",
    "Vytvořte funkci, která bude vracit kosinovou podobnost dvou vektorů\n",
    "<br>\n",
    "<br>\n",
    "$\n",
    "similarity(a,b) = cos(\\theta) = \\frac{a \\cdot b}{\\lVert a \\lVert \\lVert b \\lVert}\n",
    "$"
   ]
  },
  {
   "cell_type": "code",
   "execution_count": null,
   "id": "ead28457",
   "metadata": {},
   "outputs": [],
   "source": [
    "def cossim(A,B):\n",
    "    ...\n",
    "    return cosine"
   ]
  },
  {
   "cell_type": "code",
   "execution_count": null,
   "id": "fb3c00e5",
   "metadata": {},
   "outputs": [],
   "source": [
    "prague_idx = word2idx[\"prague\"]\n",
    "czech_idx = word2idx[\"czech\"]\n",
    "similarity = cossim(matrix[prague_idx], matrix[czech_idx])\n",
    "\n",
    "# Očekávané výsledky\n",
    "# similarity = 0.6934045343089018"
   ]
  },
  {
   "cell_type": "markdown",
   "id": "9f76c451",
   "metadata": {},
   "source": [
    "## Nalezení podobných slov\n",
    "Vytvořte funkci, která vrátí 10 nejpodobnějších slov."
   ]
  },
  {
   "cell_type": "code",
   "execution_count": null,
   "id": "a8487250",
   "metadata": {},
   "outputs": [],
   "source": [
    "def most_similar(A: str):\n",
    "  ...\n",
    "    return results[1:11]"
   ]
  },
  {
   "cell_type": "code",
   "execution_count": null,
   "id": "69dc9b08",
   "metadata": {},
   "outputs": [],
   "source": [
    "most_similar(\"terrible\")"
   ]
  },
  {
   "cell_type": "markdown",
   "id": "f3882f60",
   "metadata": {},
   "source": [
    "Očekávaný výsledek:\n",
    "\n",
    "    [('horrible', 0.9373438294745691),\n",
    "     ('awful', 0.8872899998451529),\n",
    "     ('tragic', 0.8339797859732649),\n",
    "     ('dreadful', 0.8279697448704045),\n",
    "     ('tragedy', 0.8180269496589323),\n",
    "     ('horrific', 0.810895299702903),\n",
    "     ('nightmare', 0.7994893093099841),\n",
    "     ('unfortunate', 0.7938124514408333),\n",
    "     ('horrendous', 0.7856658154073575),\n",
    "     ('unfortunately', 0.7838044061147322)]\n"
   ]
  },
  {
   "cell_type": "markdown",
   "id": "fbda8e53",
   "metadata": {},
   "source": [
    "## Sčítání a odčítání vektorů a jejich využití\n",
    "\n",
    "Jak se vektory slov dají sčítat a odčítat naleznete [zde](https://medium.com/analytics-vidhya/ideas-for-using-word2vec-in-human-learning-tasks-1c5dabbeb72e)"
   ]
  },
  {
   "cell_type": "code",
   "execution_count": null,
   "id": "504c504e",
   "metadata": {},
   "outputs": [],
   "source": [
    "# Pomocí sčítání a odčítání vektorů nalezněte chybějící slovo ve výrazu “Berlin is to Germany as … is to Italy”\n",
    "....\n",
    "....\n",
    "# Očekávaný výsledek: ('rome')"
   ]
  },
  {
   "cell_type": "code",
   "execution_count": null,
   "id": "cdb9a6db",
   "metadata": {},
   "outputs": [],
   "source": []
  }
 ],
 "metadata": {
  "kernelspec": {
   "display_name": "Python 3 (ipykernel)",
   "language": "python",
   "name": "python3"
  },
  "language_info": {
   "codemirror_mode": {
    "name": "ipython",
    "version": 3
   },
   "file_extension": ".py",
   "mimetype": "text/x-python",
   "name": "python",
   "nbconvert_exporter": "python",
   "pygments_lexer": "ipython3",
   "version": "3.10.9"
  }
 },
 "nbformat": 4,
 "nbformat_minor": 5
}
