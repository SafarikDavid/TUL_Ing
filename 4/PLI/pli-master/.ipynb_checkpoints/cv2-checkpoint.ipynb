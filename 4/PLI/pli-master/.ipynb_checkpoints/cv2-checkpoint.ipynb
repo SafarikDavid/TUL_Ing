{
 "cells": [
  {
   "cell_type": "markdown",
   "id": "d244b9ce",
   "metadata": {},
   "source": [
    "# Druhé cvičení - nejbližší sousedé\n",
    "\n",
    "## 1) Nalezení nejlépe asociované dvojice slov\n",
    "\n",
    "- Vytvořte funkci, která načte soubor TEXTEN1.txt\n",
    "- Odstraňte interpunkci z textu\n",
    "- Nalezněte nejlépe asociovanou dvojici pomocí bodové vzájemné informace: \n",
    "$pmi(x,y) \\equiv log{_2}{p(x,y) \\over p(x)p(y)}$\n",
    "\n",
    "- Uvažujte pouze slova, která mají výskyt větší než 9"
   ]
  },
  {
   "cell_type": "code",
   "execution_count": 110,
   "id": "2294128e",
   "metadata": {},
   "outputs": [],
   "source": [
    "import glob, os, re, string\n",
    "from math import log2\n",
    "from collections import Counter"
   ]
  },
  {
   "cell_type": "code",
   "execution_count": 83,
   "id": "91ff11af",
   "metadata": {},
   "outputs": [],
   "source": [
    "def compute_pointwise_mutual_information(file):\n",
    "    \n",
    "    # Načtení souboru, odfiltrování interpunkce a prázdných řádků\n",
    "    with open(file, \"r\") as f:\n",
    "        words = []\n",
    "        while line := f.readline():\n",
    "            line = line.strip()\n",
    "            line = line.translate(str.maketrans('', '', string.punctuation))\n",
    "            if len(line) <= 0: continue\n",
    "            words.append(line.strip())\n",
    "\n",
    "    words_counts = Counter(words)\n",
    "    total_words = sum(words_counts.values())\n",
    "    pairs_count = total_words - 1\n",
    "            \n",
    "    # Výpočet vzájemné informace pro jednotlivé dvojice slov\n",
    "    results = dict()\n",
    "\n",
    "    pairs_count = 0\n",
    "    for i in range(0, len(words)-2):\n",
    "        key = f\"{words[i]} {words[i+1]}\"\n",
    "        if key in results.keys():\n",
    "            results[key] += 1\n",
    "        else:\n",
    "            results[key] = 1\n",
    "        pairs_count += 1\n",
    "\n",
    "    for key in results.keys():\n",
    "        word_a = key.split(\" \")[0]\n",
    "        word_b = key.split(\" \")[1]\n",
    "        if (words_counts[word_a] <= 9) or (words_counts[word_b] <= 9):\n",
    "            results[key] = 0\n",
    "            continue\n",
    "        P_A = words_counts[word_a]/total_words\n",
    "        P_B = words_counts[word_b]/total_words\n",
    "        P_AB = results[key]/pairs_count\n",
    "        results[key] = log2(P_AB/(P_A*P_B))\n",
    "    \n",
    "    results = sorted(results.items(), key=lambda x:x[1], reverse=True)\n",
    "    \n",
    "    return results\n",
    "    "
   ]
  },
  {
   "cell_type": "code",
   "execution_count": 84,
   "id": "ea1821ae",
   "metadata": {},
   "outputs": [
    {
     "name": "stdout",
     "output_type": "stream",
     "text": [
      "('La Plata', 14.005507594503369)\n"
     ]
    }
   ],
   "source": [
    "computed_result_en = compute_pointwise_mutual_information(\"TEXTEN1.txt\")\n",
    "print(computed_result_en[0])\n",
    "\n",
    "# Očekávané výsledky\n",
    "## pairs_count = 197358\n",
    "## len(pairs_set) = 78426\n",
    "## Nejlépe asociovaná dvojice: La Plata 14.005507594503369\n",
    "\n"
   ]
  },
  {
   "cell_type": "markdown",
   "id": "5000df2a",
   "metadata": {},
   "source": [
    "## 2) Nalezněte nejlépe asociovanou dvojici s okolím\n",
    "- Upravte vytvořenou funkci tak, aby nejlépe asociované dvojice slov hledala s využitím okolí 50 slov (+- 25)"
   ]
  },
  {
   "cell_type": "code",
   "execution_count": 115,
   "id": "3d8c4255",
   "metadata": {},
   "outputs": [],
   "source": [
    "def compute_pointwise_mutual_information(file, k):\n",
    "    \n",
    "    # Načtení souboru, odfiltrování interpunkce a prázdných řádků\n",
    "    with open(file, \"r\") as f:\n",
    "        words = []\n",
    "        while line := f.readline():\n",
    "            line = line.strip()\n",
    "            line = line.translate(str.maketrans('', '', string.punctuation))\n",
    "            if len(line) <= 0: continue\n",
    "            words.append(line.strip())\n",
    "\n",
    "    words_counts = Counter(words)\n",
    "    total_words = sum(words_counts.values())\n",
    "            \n",
    "    # Výpočet vzájemné informace pro jednotlivé dvojice slov\n",
    "    results = dict()\n",
    "\n",
    "    pairs_count = 0\n",
    "    for i in range(0, len(words)-2):\n",
    "        for j in range(max(0, i-k), i):\n",
    "            key = f\"{words[j]} {words[i]}\"\n",
    "            if key in results.keys():\n",
    "                results[key] += 1\n",
    "            else:\n",
    "                results[key] = 1\n",
    "            pairs_count += 1\n",
    "                \n",
    "        for j in range(i+1, min(i+1+k, len(words))):\n",
    "            key = f\"{words[i]} {words[j]}\"\n",
    "            if key in results.keys():\n",
    "                results[key] += 1\n",
    "            else:\n",
    "                results[key] = 1\n",
    "            pairs_count += 1\n",
    "\n",
    "    for key in results.keys():\n",
    "        word_a = key.split(\" \")[0]\n",
    "        word_b = key.split(\" \")[1]\n",
    "        if (words_counts[word_a] <= 9) or (words_counts[word_b] <= 9):\n",
    "            results[key] = 0\n",
    "            continue\n",
    "        P_A = words_counts[word_a]/total_words\n",
    "        P_B = words_counts[word_b]/total_words\n",
    "        P_AB = results[key]/pairs_count\n",
    "        results[key] = log2(P_AB/(P_A*P_B))\n",
    "    \n",
    "    results = sorted(results.items(), key=lambda x:x[1], reverse=True)\n",
    "    \n",
    "    return results"
   ]
  },
  {
   "cell_type": "code",
   "execution_count": 116,
   "id": "78260093",
   "metadata": {},
   "outputs": [
    {
     "name": "stdout",
     "output_type": "stream",
     "text": [
      "('La Plata', 9.361746584600045)\n"
     ]
    }
   ],
   "source": [
    "computed_result_en = compute_pointwise_mutual_information(\"TEXTEN1.txt\", 25)\n",
    "print(computed_result_en[0])\n",
    "\n",
    "# Očekávané výsledky\n",
    "## Nejlépe asociovaná dvojice: La Plata 9.361742783133026\n",
    "\n"
   ]
  },
  {
   "cell_type": "code",
   "execution_count": null,
   "id": "2a32bf45",
   "metadata": {},
   "outputs": [],
   "source": []
  }
 ],
 "metadata": {
  "kernelspec": {
   "display_name": "Python 3 (ipykernel)",
   "language": "python",
   "name": "python3"
  },
  "language_info": {
   "codemirror_mode": {
    "name": "ipython",
    "version": 3
   },
   "file_extension": ".py",
   "mimetype": "text/x-python",
   "name": "python",
   "nbconvert_exporter": "python",
   "pygments_lexer": "ipython3",
   "version": "3.9.18"
  }
 },
 "nbformat": 4,
 "nbformat_minor": 5
}
