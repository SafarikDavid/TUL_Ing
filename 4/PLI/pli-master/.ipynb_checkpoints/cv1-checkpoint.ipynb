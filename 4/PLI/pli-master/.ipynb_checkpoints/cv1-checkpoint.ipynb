{
 "cells": [
  {
   "cell_type": "markdown",
   "id": "d244b9ce",
   "metadata": {},
   "source": [
    "# První cvičení - regulární výrazy"
   ]
  },
  {
   "cell_type": "code",
   "execution_count": 1,
   "id": "2294128e",
   "metadata": {},
   "outputs": [],
   "source": [
    "import glob, os, re\n",
    "from math import sin,cos,log"
   ]
  },
  {
   "cell_type": "code",
   "execution_count": 9,
   "id": "827e1c06",
   "metadata": {},
   "outputs": [
    {
     "name": "stdout",
     "output_type": "stream",
     "text": [
      "['121', '212', '132']\n"
     ]
    }
   ],
   "source": [
    "# V textu nalezněte všechna trojmístná čísla\n",
    "\n",
    "text =\"121 2565 212 36585522 132 23 219a4 1\"\n",
    "found = re.findall(r'\\b\\d\\d\\d\\b', text)\n",
    "print(found)\n",
    "\n",
    "#Očekávaný výsledek: ['121', '212', '132']"
   ]
  },
  {
   "cell_type": "code",
   "execution_count": 13,
   "id": "2e562859",
   "metadata": {},
   "outputs": [],
   "source": [
    "# V textu nalezněte všechna čísla začínající 1 nebo 3\n",
    "\n",
    "text =\"121 2565 212 36585522 132 23 219a4 1\"\n",
    "found = ...\n",
    "print(found)\n",
    "\n",
    "#Očekávaný výsledek: ['121', '36585522', '132', '1']"
   ]
  },
  {
   "cell_type": "code",
   "execution_count": 14,
   "id": "77f82cce",
   "metadata": {},
   "outputs": [],
   "source": [
    "# V textu nalezněte všechna maximálně trojmístná čísla (včetně záporných)\n",
    "\n",
    "text =\"121 2565 212 36585522 132 23 219a4 -1\"\n",
    "found = ...\n",
    "print(found)\n",
    "#Očekávaný výsledek: ['121', '212', '132', '23', '-1']"
   ]
  },
  {
   "cell_type": "code",
   "execution_count": 17,
   "id": "19a0201f",
   "metadata": {},
   "outputs": [
    {
     "name": "stdout",
     "output_type": "stream",
     "text": [
      "['12', '13']\n",
      "1213\n"
     ]
    }
   ],
   "source": [
    "# V textu nalezněte pouze ty číslovky, po kterých následuje tečka a následně tyto řetězce spojte\n",
    "\n",
    "text = \"Dnes je 12. srpna, já jsem 13. v pořadí, je 14 hodin a 15 minut.\"\n",
    "found = ...\n",
    "result = ...\n",
    "print(result)\n",
    "\n",
    "#Očekávaný výsledek: 1213"
   ]
  },
  {
   "cell_type": "code",
   "execution_count": 6,
   "id": "c1c977d1",
   "metadata": {},
   "outputs": [],
   "source": [
    "# Z textu vypište pouze měsíc a čas\n",
    "\n",
    "text = \"12. srpen 2022 (17:55)\"\n",
    "pattern = ...\n",
    "result = pattern.match(text)\n",
    "print(result)\n",
    "\n",
    "#print(f\"{result.group(1)} {result.group(2)}\")\n",
    "\n",
    "#Očekávaný výsledek: srpen 17:55"
   ]
  },
  {
   "cell_type": "code",
   "execution_count": 7,
   "id": "e98cafc1",
   "metadata": {},
   "outputs": [],
   "source": [
    "# V textu nahraďte všechna lomítka za zpětná lomítka\n",
    "\n",
    "text = \"C:/Users/PLI/Documents/cv1\"\n",
    "result = ...\n",
    "print(result)\n",
    "\n",
    "#Očekávaný výsledek: C:\\Users\\PLI\\Documents\\cv1"
   ]
  },
  {
   "cell_type": "markdown",
   "id": "5b77aa4f",
   "metadata": {},
   "source": [
    "## Kontrola rovnic\n",
    "\n",
    "- Načtěte všechny soubory typu TXT z aktuálního adresáře (rovnice1 a rovnice2)\n",
    "- V každém souboru ověřte všechny řádky, zda obsahují rovnice ve tvaru:\\\n",
    "``textový_řetězec_bez_mezer = přirozené_číslo``\n",
    "- Mezery <strong>mohou</strong> být pouze v okolí symbolů ` = `\n",
    "- Ověřit, zda je rovnice matematicky správně (Vypsat rovnici a hlášku, zda je rovnice správně nebo ne.)\n",
    "- Například:\n",
    "``cos(0) = 1 : Správně``"
   ]
  },
  {
   "cell_type": "code",
   "execution_count": 18,
   "id": "b352209b",
   "metadata": {},
   "outputs": [
    {
     "name": "stdout",
     "output_type": "stream",
     "text": [
      "['2*5+4 =9', 'cos(3)+7 = 11', '2*3+4=10', '2*5+log(4) =9', '1+cos(3)+7 = 11', '10/2+4=9', 'sin(0)=0']\n"
     ]
    }
   ],
   "source": [
    "# Načtení souborů a nalezení rovnic\n",
    "equations = []\n",
    "\n",
    "...\n",
    "\n",
    "print(equations)        \n",
    "\n",
    "# Očekáváný výsledek: ['2*5+4 =9', 'cos(3)+7 = 1', '2*3+4=1', '2*5+log(4) =9', '1+cos(3)+7 = 1', '2+4=9', 'sin(0)=0']"
   ]
  },
  {
   "cell_type": "code",
   "execution_count": 19,
   "id": "0157ddb0",
   "metadata": {},
   "outputs": [
    {
     "name": "stdout",
     "output_type": "stream",
     "text": [
      "2*5+4 =9 : Chybně\n",
      "cos(3)+7 = 11 : Chybně\n",
      "2*3+4=10 : Správně\n",
      "2*5+log(4) =9 : Chybně\n",
      "1+cos(3)+7 = 11 : Chybně\n",
      "10/2+4=9 : Správně\n",
      "sin(0)=0 : Správně\n"
     ]
    }
   ],
   "source": [
    "# Vyhodnocení nalezených rovnic\n",
    "for eq in equations:\n",
    "    ..."
   ]
  },
  {
   "cell_type": "code",
   "execution_count": 10,
   "id": "5c219613",
   "metadata": {},
   "outputs": [],
   "source": [
    "# Očekáváný výsledek:\n",
    "# 2*5+4 =9 : Chybně\n",
    "# cos(3)+7 = 11 : Chybně\n",
    "# 2*3+4=10 : Správně\n",
    "# 2*5+log(4) =9 : Chybně\n",
    "# 1+cos(3)+7 = 11 : Chybně\n",
    "# 10/2+4=9 : Správně\n",
    "# sin(0)=0 : Správně\n"
   ]
  }
 ],
 "metadata": {
  "kernelspec": {
   "display_name": "Python 3 (ipykernel)",
   "language": "python",
   "name": "python3"
  },
  "language_info": {
   "codemirror_mode": {
    "name": "ipython",
    "version": 3
   },
   "file_extension": ".py",
   "mimetype": "text/x-python",
   "name": "python",
   "nbconvert_exporter": "python",
   "pygments_lexer": "ipython3",
   "version": "3.9.18"
  },
  "vscode": {
   "interpreter": {
    "hash": "d0f3eb59c596ac6e02f3ffe0dbdc1fa843467d988e52ad2ce0b229b9c76fcd30"
   }
  }
 },
 "nbformat": 4,
 "nbformat_minor": 5
}
