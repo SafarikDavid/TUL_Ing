{
 "cells": [
  {
   "cell_type": "markdown",
   "id": "d244b9ce",
   "metadata": {},
   "source": [
    "# Třetí cvičení - jazykové modely, perplexita\n",
    "\n",
    "## 1) Příprava dat\n",
    "\n",
    "- Soubory TEXTCZ1 a TEXTEN1 přeuspořádejte tak, aby každá věta byla na jednom řádku (jako oddělovač vět použijte tečku, otazník a vykřičník).\n",
    "- Všechny slova převeďte na lowercase"
   ]
  },
  {
   "cell_type": "code",
   "execution_count": 1,
   "id": "2294128e",
   "metadata": {},
   "outputs": [],
   "source": [
    "import re, string\n",
    "from collections import Counter\n",
    "from math import log2\n",
    "import math"
   ]
  },
  {
   "cell_type": "markdown",
   "id": "59f8ef85",
   "metadata": {},
   "source": [
    "## Unigramový model\n",
    "- Vypočítejte pravděpodobnost každého ze slov\n",
    "- Vypočítejte entropii H(X) a perplexitu G(X) modelu\n",
    "\n",
    "$H(X) = - \\sum_{x}p(x)log{_2}p(x)$\n",
    "\n",
    "$G(X) = 2^{H(X)}$"
   ]
  },
  {
   "cell_type": "code",
   "execution_count": 2,
   "id": "9263d37d",
   "metadata": {},
   "outputs": [
    {
     "name": "stdout",
     "output_type": "stream",
     "text": [
      "entropy = 2.321928094887362\n",
      "perplexity = 4.999999999999999\n"
     ]
    }
   ],
   "source": [
    "# Nejprve vytvořte unigramový model pro větu: \"<s> Dnes je hezký den\"\n",
    "sent = \"<s> Dnes je hezký den\"\n",
    "\n",
    "words = sent.split(' ')\n",
    "words_counts = Counter(words)\n",
    "words_count = len(words_counts)\n",
    "\n",
    "entropy = -sum([(words_counts[x]/words_count) * log2(words_counts[x]/words_count) for x in words_counts])\n",
    "print(f'entropy = {entropy}')\n",
    "perplexity = 2**entropy\n",
    "print(f'perplexity = {perplexity}')\n",
    "\n",
    "# Očekávaný výsledek: \n",
    "# entropy = 2.321928094887362\n",
    "# perplexity = 4.999999999999999"
   ]
  },
  {
   "cell_type": "code",
   "execution_count": 3,
   "id": "11fd7ff8",
   "metadata": {},
   "outputs": [],
   "source": [
    "# Nyní pro CZ a EN korpusy"
   ]
  },
  {
   "cell_type": "code",
   "execution_count": 4,
   "id": "91ff11af",
   "metadata": {},
   "outputs": [],
   "source": [
    "# Načtení souborů CZ, EN\n",
    "text_cz = []\n",
    "with open('TEXTCZ1.txt', 'r', encoding='cp1250') as file_cz:\n",
    "    while line := file_cz.readline():\n",
    "        text_cz.append(line)\n",
    "\n",
    "text_en = []\n",
    "with open('TEXTEN1.txt', 'r', encoding='UTF-8') as file_en:\n",
    "    while line := file_en.readline():\n",
    "        text_en.append(line)\n",
    "        "
   ]
  },
  {
   "cell_type": "code",
   "execution_count": 13,
   "id": "ea1821ae",
   "metadata": {},
   "outputs": [],
   "source": [
    "# Rozdělení textů na věty, odstranění interpunkce a přidání znaku začátku věty\n",
    "def text_to_lines(text):\n",
    "    text_lined = []\n",
    "    line = [\"<s>\"]\n",
    "    for word in text:\n",
    "        if word.strip() in \".?!\":\n",
    "            text_lined.append(line)\n",
    "            line = [\"<s>\"]\n",
    "            continue\n",
    "        if word.strip() in string.punctuation:\n",
    "            continue\n",
    "        line.append(word.strip().translate(str.maketrans('', '', string.punctuation)).lower())\n",
    "    return text_lined\n",
    "\n",
    "text_cz_lined = text_to_lines(text_cz)\n",
    "text_en_lined = text_to_lines(text_en)"
   ]
  },
  {
   "cell_type": "code",
   "execution_count": 17,
   "id": "ee7cb1a1-71ca-4619-bc7f-7ffdff5abbc4",
   "metadata": {},
   "outputs": [],
   "source": [
    "def word_freqs(text):\n",
    "    words_counts = Counter()\n",
    "    for line in text:\n",
    "        words_counts.update(Counter(line))\n",
    "    words_count = sum(words_counts.values())\n",
    "    return words_counts, words_count\n",
    "\n",
    "def unigram_entropy(words_freqs, words_count):\n",
    "    entropy = 0\n",
    "    for x in words_freqs:\n",
    "        entropy += (words_freqs[x]/words_count) * log2(words_freqs[x]/words_count)\n",
    "    return -entropy"
   ]
  },
  {
   "cell_type": "code",
   "execution_count": 19,
   "id": "3d8c4255",
   "metadata": {},
   "outputs": [
    {
     "name": "stdout",
     "output_type": "stream",
     "text": [
      "Entropy: 9.154048271867357 Perplexity: 569.6959231662712\n"
     ]
    }
   ],
   "source": [
    "# Anglický unigramový model\n",
    "words_counts_en, words_count_en = word_freqs(text_en_lined)\n",
    "\n",
    "en_entropy = unigram_entropy(words_counts_en, words_count_en)\n",
    "en_perplexity = 2**en_entropy\n",
    "\n",
    "print(f\"Entropy: {en_entropy} Perplexity: {en_perplexity}\")\n",
    "# Očekávaný výsledek: \n",
    "# en_entropy = 9.153156076444484\n",
    "# en_perplexity = 569.3437191681389"
   ]
  },
  {
   "cell_type": "code",
   "execution_count": 20,
   "id": "78260093",
   "metadata": {},
   "outputs": [
    {
     "name": "stdout",
     "output_type": "stream",
     "text": [
      "Entropy: 11.901302885729898 Perplexity: 3825.156040129388\n"
     ]
    }
   ],
   "source": [
    "# Český unigramový model\n",
    "words_counts_cz, words_count_cz = word_freqs(text_cz_lined)\n",
    "\n",
    "cz_entropy = unigram_entropy(words_counts_cz, words_count_cz)\n",
    "cz_perplexity = 2**cz_entropy\n",
    "\n",
    "print(f\"Entropy: {cz_entropy} Perplexity: {cz_perplexity}\")\n",
    "# Očekávaný výsledek: \n",
    "# en_entropy = 11.866640196670001\n",
    "# en_perplexity = 3734.346796191333\n"
   ]
  },
  {
   "cell_type": "markdown",
   "id": "f83a4ef1",
   "metadata": {},
   "source": [
    "## Bigramový model\n",
    "- obdobně vytvořte bigramový model a všechny dvojice slov hledejte vždy pouze ve větě (nikoliv mezi větami)\n",
    "- vypočítejte entropii a perplexitu\n",
    "\n",
    "$H(B|A) = - \\sum_{a \\in A, b \\in B}P(a,b)log{_2}P(b|a)$ \n",
    "\n",
    "$G(X) = 2^{H(B|A)}$"
   ]
  },
  {
   "cell_type": "code",
   "execution_count": 144,
   "id": "59e5a8ac",
   "metadata": {},
   "outputs": [
    {
     "name": "stdout",
     "output_type": "stream",
     "text": [
      "Entropy: 0.4 Perplexity: 1.3195079107728942\n"
     ]
    }
   ],
   "source": [
    "# Nejprve vytvořte bigramový model pro větu: \"<s> Dnes je hezký den </s>\"\n",
    "sent = [\"<s> dnes respektive dnes možná </s>\"]\n",
    "words_count = 0\n",
    "pairs_counts = Counter()\n",
    "words_counts = Counter()\n",
    "for line in sent:\n",
    "    words = line.split(' ')\n",
    "    words_counts.update(Counter(words))\n",
    "    pairs = [f'{words[i]} {words[i+1]}' for i in range(len(words)-1)]\n",
    "    pairs_counts.update(Counter(pairs))\n",
    "    words_count += len(words)-1 # -1 aby se nepocital </s>\n",
    "words_count = len(words_counts)\n",
    "pairs_count = sum(pairs_counts.values())\n",
    "\n",
    "entropy = -sum([(pairs_counts[x]/pairs_count) * log2((pairs_counts[x]/pairs_count)/(words_counts[x.split(' ')[1]]/words_count)) for x in pairs_counts])\n",
    "perplexity = 2**entropy\n",
    "\n",
    "print(f\"Entropy: {entropy} Perplexity: {perplexity}\")\n",
    "# Očekávaný výsledek: \n",
    "# entropy = 0.4\n",
    "# perplexity = 1.3195079107728942"
   ]
  },
  {
   "cell_type": "code",
   "execution_count": 140,
   "id": "99a3dd6b",
   "metadata": {},
   "outputs": [],
   "source": [
    "# Nyní pro jednotlivé korpusy, nejprve pro CZ a pak pro EN\n",
    "\n",
    "# Přidání koncového znaku </s> do vět\n",
    "for line in text_cz_lined:\n",
    "    line.append('</s>')\n",
    "for line in text_en_lined:\n",
    "    line.append('</s>')"
   ]
  },
  {
   "cell_type": "code",
   "execution_count": 150,
   "id": "ead28457",
   "metadata": {},
   "outputs": [],
   "source": [
    "# Rozdělení na slova, tvorba slovníku a výpočet frekvencí\n",
    "def bigrams(lines):\n",
    "    pairs_counts = Counter()\n",
    "    words_counts = Counter()\n",
    "    for words in lines:\n",
    "        words_counts.update(Counter(words))\n",
    "        pairs = [f'{words[i]} {words[i+1]}' for i in range(len(words)-1)]\n",
    "        pairs_counts.update(Counter(pairs))\n",
    "    return pairs_counts, words_counts"
   ]
  },
  {
   "cell_type": "code",
   "execution_count": 156,
   "id": "504c504e",
   "metadata": {},
   "outputs": [
    {
     "name": "stdout",
     "output_type": "stream",
     "text": [
      "Entropy: 5.24714317366672 Perplexity: 37.97934642441261\n"
     ]
    }
   ],
   "source": [
    "pairs_counts, words_counts = bigrams(text_en_lined)\n",
    "words_count = sum(words_counts.values())\n",
    "pairs_count = sum(pairs_counts.values())\n",
    "\n",
    "en_entropy = -sum([(pairs_counts[x]/pairs_count) * log2((pairs_counts[x]/pairs_count)/(words_counts[x.split(' ')[1]]/words_count)) for x in pairs_counts])\n",
    "en_perplexity = 2**en_entropy\n",
    "\n",
    "print(f\"Entropy: {en_entropy} Perplexity: {en_perplexity}\")\n",
    "\n",
    "# Očekávaný výsledek: \n",
    "# en_entropy = 5.380173547272233\n",
    "# en_perplexity = 41.64794906297528"
   ]
  },
  {
   "cell_type": "code",
   "execution_count": 158,
   "id": "cdb9a6db",
   "metadata": {},
   "outputs": [
    {
     "name": "stdout",
     "output_type": "stream",
     "text": [
      "Entropy: 4.331367509109961 Perplexity: 20.131287098126155\n"
     ]
    }
   ],
   "source": [
    "pairs_counts, words_counts = bigrams(text_cz_lined)\n",
    "words_count = sum(words_counts.values())\n",
    "pairs_count = sum(pairs_counts.values())\n",
    "\n",
    "cz_entropy = -sum([(pairs_counts[x]/pairs_count) * log2((pairs_counts[x]/pairs_count)/(words_counts[x.split(' ')[1]]/words_count)) for x in pairs_counts])\n",
    "cz_perplexity = 2**cz_entropy\n",
    "\n",
    "print(f\"Entropy: {cz_entropy} Perplexity: {cz_perplexity}\")\n",
    "\n",
    "# Očekávaný výsledek: \n",
    "# cz_entropy = 4.624183207248371\n",
    "# cz_perplexity = 24.6614070105357"
   ]
  },
  {
   "cell_type": "code",
   "execution_count": null,
   "id": "39e31073",
   "metadata": {},
   "outputs": [],
   "source": [
    "#SRILM příkazy\n",
    "#ngram-count -text TEXTEN_unigram.txt -order 2 -write czbigram.count -unk\n",
    "#ngram-count -gt1max 0 -gt2max 0 -read czbigram.count -order 2 -lm czbigram.lm\n",
    "#ngram -ppl TEXTEN_unigram.txt -order 2 -lm czbigram.lm >> czbigram.ppl\n",
    "\n"
   ]
  }
 ],
 "metadata": {
  "kernelspec": {
   "display_name": "Python 3 (ipykernel)",
   "language": "python",
   "name": "python3"
  },
  "language_info": {
   "codemirror_mode": {
    "name": "ipython",
    "version": 3
   },
   "file_extension": ".py",
   "mimetype": "text/x-python",
   "name": "python",
   "nbconvert_exporter": "python",
   "pygments_lexer": "ipython3",
   "version": "3.9.18"
  }
 },
 "nbformat": 4,
 "nbformat_minor": 5
}
