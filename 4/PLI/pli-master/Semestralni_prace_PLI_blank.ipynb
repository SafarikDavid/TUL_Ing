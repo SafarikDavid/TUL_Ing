{
 "cells": [
  {
   "cell_type": "markdown",
   "id": "6968969f",
   "metadata": {},
   "source": [
    "# Semestrální práce - PLI"
   ]
  },
  {
   "cell_type": "code",
   "execution_count": 1,
   "id": "246b27c5",
   "metadata": {
    "ExecuteTime": {
     "end_time": "2024-04-06T11:46:13.331015200Z",
     "start_time": "2024-04-06T11:46:08.735304400Z"
    }
   },
   "outputs": [],
   "source": [
    "# Import knihovny Pytorch\n",
    "import torch\n",
    "import torch.nn as nn\n",
    "import torch.optim as optim\n",
    "import torch.nn.functional as F\n",
    "\n",
    "# Import knihovny transformers pro práci s modely z HuggingFace\n",
    "from transformers import ElectraTokenizer, AutoModel\n",
    "\n",
    "# Import knihovny re pro regulární výrazy\n",
    "import re\n",
    "\n",
    "# Import knihovny pro výpočet F1 skóre\n",
    "from sklearn.metrics import f1_score\n",
    "\n",
    "# Import knihovny pro usnadnění trénování a zobrazení jeho průběhu\n",
    "from tqdm import tqdm, trange\n",
    "import matplotlib.pyplot as plt\n",
    "from IPython.display import display, clear_output"
   ]
  },
  {
   "cell_type": "code",
   "execution_count": 16,
   "id": "41806a9e",
   "metadata": {
    "ExecuteTime": {
     "end_time": "2024-04-06T12:12:14.651068400Z",
     "start_time": "2024-04-06T12:11:31.196762Z"
    }
   },
   "outputs": [],
   "source": [
    "# Načtení trénovacích dat\n",
    "\n",
    "with open(\"train_data.utf8\", \"r\", encoding='utf-8') as f:\n",
    "    text_data = f. read()\n",
    "\n",
    "# Znak pro nový řádek se nahradí za mezeru\n",
    "\n",
    "text_data = text_data.replace(\"\\n\", \" \")\n",
    "\n",
    "# Odstranění všech nestandartních znaků (zachová pouze a-z, A-Z, znaky české abecedy, mezery, číslice, symbol tečka, čárka, otazník a vykřičník).\n",
    "\n",
    "text_data_clean = re.sub(r'[^a-zA-Z0-9.,!?áčďéěíňóřšťúůýžÁČĎÉĚÍŇÓŘŠŤÚŮÝŽ ]', '', text_data)\n",
    "\n",
    "# Odstranění duplicitních mezer\n",
    "\n",
    "text_data_clean = re.sub(r'\\s+', ' ', text_data_clean).strip()\n",
    "\n",
    "# Převedení všech znaků na lower-case\n",
    "\n",
    "text_data_clean = text_data_clean.lower()"
   ]
  },
  {
   "cell_type": "markdown",
   "id": "37142a5a",
   "metadata": {},
   "source": [
    "### CapitalizationModel\n",
    "`CapitalizationModel` využívá architekturu Electra, která se načítá přes `AutoModel.from_pretrained`, rozšířenou o lineární vrstvu `nn.Linear` s 256 vstupními a 2 výstupními prvky (2 třídy), která se provádí pro každý vstupní token. Funkce `forward` popisuje průchod dat modelem: nejprve Electra modelem a následně lineární vrstvou pro výstup."
   ]
  },
  {
   "cell_type": "code",
   "execution_count": 17,
   "id": "3404aaba",
   "metadata": {
    "ExecuteTime": {
     "end_time": "2024-04-06T12:12:21.804897Z",
     "start_time": "2024-04-06T12:12:21.788882500Z"
    }
   },
   "outputs": [],
   "source": [
    "class CapitalizationModel(nn.Module):\n",
    "    def __init__(self, name):\n",
    "        super(CapitalizationModel, self).__init__()\n",
    "        self.electra_model = AutoModel.from_pretrained(name)\n",
    "        \n",
    "        self.linear_layer = nn.Linear(in_features=256, out_features=2)\n",
    "\n",
    "    def forward(self, x, attn_masks):\n",
    "        x = self.electra_model(x, attention_mask=attn_masks)[0]\n",
    "\n",
    "        output = self.linear_layer(x)\n",
    "\n",
    "        return output"
   ]
  },
  {
   "cell_type": "markdown",
   "id": "cab6d8a3",
   "metadata": {},
   "source": [
    "### Inicializace a Nastavení Modelu\n",
    "\n",
    "Inicializujeme `CapitalizationModel` s předtrénovanou ELECTRA architekturou pro češtinu (`\"Seznam/small-e-czech\"`). Následně model přesuneme na GPU pro efektivnější výpočty, pokud je GPU k dispozici. V opačném případě použijeme CPU. Nakonec model přepneme do trénovacího režimu voláním `capitalization_model.train()`, aby byl připraven na učení."
   ]
  },
  {
   "cell_type": "code",
   "execution_count": 18,
   "id": "fdcbae0f",
   "metadata": {
    "ExecuteTime": {
     "end_time": "2024-04-06T12:12:32.369500900Z",
     "start_time": "2024-04-06T12:12:31.839020300Z"
    }
   },
   "outputs": [
    {
     "data": {
      "text/plain": "CapitalizationModel(\n  (electra_model): ElectraModel(\n    (embeddings): ElectraEmbeddings(\n      (word_embeddings): Embedding(30522, 128, padding_idx=0)\n      (position_embeddings): Embedding(512, 128)\n      (token_type_embeddings): Embedding(2, 128)\n      (LayerNorm): LayerNorm((128,), eps=1e-12, elementwise_affine=True)\n      (dropout): Dropout(p=0.1, inplace=False)\n    )\n    (embeddings_project): Linear(in_features=128, out_features=256, bias=True)\n    (encoder): ElectraEncoder(\n      (layer): ModuleList(\n        (0-11): 12 x ElectraLayer(\n          (attention): ElectraAttention(\n            (self): ElectraSelfAttention(\n              (query): Linear(in_features=256, out_features=256, bias=True)\n              (key): Linear(in_features=256, out_features=256, bias=True)\n              (value): Linear(in_features=256, out_features=256, bias=True)\n              (dropout): Dropout(p=0.1, inplace=False)\n            )\n            (output): ElectraSelfOutput(\n              (dense): Linear(in_features=256, out_features=256, bias=True)\n              (LayerNorm): LayerNorm((256,), eps=1e-12, elementwise_affine=True)\n              (dropout): Dropout(p=0.1, inplace=False)\n            )\n          )\n          (intermediate): ElectraIntermediate(\n            (dense): Linear(in_features=256, out_features=1024, bias=True)\n            (intermediate_act_fn): GELUActivation()\n          )\n          (output): ElectraOutput(\n            (dense): Linear(in_features=1024, out_features=256, bias=True)\n            (LayerNorm): LayerNorm((256,), eps=1e-12, elementwise_affine=True)\n            (dropout): Dropout(p=0.1, inplace=False)\n          )\n        )\n      )\n    )\n  )\n  (linear_layer): Linear(in_features=256, out_features=2, bias=True)\n)"
     },
     "execution_count": 18,
     "metadata": {},
     "output_type": "execute_result"
    }
   ],
   "source": [
    "# Inicializace modelu\n",
    "\n",
    "capitalization_model = CapitalizationModel(\"Seznam/small-e-czech\")\n",
    "\n",
    "# Přesun modelu na GPU, pokud je k dispozici\n",
    "\n",
    "device = torch.device('cuda' if torch.cuda.is_available() else 'cpu')\n",
    "capitalization_model.to(device)\n",
    "\n",
    "capitalization_model.train()\n",
    "\n"
   ]
  },
  {
   "cell_type": "markdown",
   "id": "f96b55fb",
   "metadata": {},
   "source": [
    "### Rozdělení Dat na Trénovací a Validační Set\n",
    "\n",
    "Data jsou rozdělena na trénovací a validační set s použitím validačního splitu 5%. Tento proces začíná rozdělením čistěného textu na jednotlivá slova a následným výpočtem celkového počtu slov.\n",
    "\n",
    "Index pro rozdělení dat se vypočítá jako 95% celkového počtu slov, což určuje hranici mezi trénovacími a validačními daty. Trénovací data zahrnují slova od začátku do tohoto indexu, zatímco validační data zahrnují zbytek."
   ]
  },
  {
   "cell_type": "code",
   "execution_count": 19,
   "id": "b6aa20eb",
   "metadata": {
    "ExecuteTime": {
     "end_time": "2024-04-06T12:12:45.835746Z",
     "start_time": "2024-04-06T12:12:44.606628200Z"
    }
   },
   "outputs": [],
   "source": [
    "# Rozdělní dat na validační a trénovací\n",
    "\n",
    "VALIDATION_SPLIT = 0.05 # 5% z celkových dat bude validačních\n",
    "\n",
    "words = text_data_clean.split(\" \")\n",
    "words_count = len(words)\n",
    "\n",
    "split_index = round(words_count * (1 - VALIDATION_SPLIT))\n",
    "\n",
    "train_data = words[0:split_index]\n",
    "validation_data = words[split_index:words_count]"
   ]
  },
  {
   "cell_type": "markdown",
   "id": "d6847e95",
   "metadata": {},
   "source": [
    "### Inicializace Tokenizéru a Definice Funkce pro Tokenizaci\n",
    "\n",
    "Inicializujeme `ElectraTokenizer` s modelem specifickým pro češtinu (\"Seznam/small-e-czech\") pro převod slov na tokeny. Definovaná funkce `tokenization` přijímá seznam slov a s použitím tokenizéru vytváří seznam tokenů a přiřazuje jim labely (každý slovo vždy musí mít stejný počet tokenů a labelů) na základě kapitalizace: 0 pro malá písmena a 1 pro velká písmena na začátku slova. Funkce podporuje zpracování velkého množství dat díky postupnému přidávání tokenů a labelů do seznamů a vrací dva seznamy: tokeny a jejich štítky.\n",
    "\n",
    "Podrobný popis tokenizeru viz. [ELECTRA](https://huggingface.co/docs/transformers/v4.14.1/model_doc/electra#transformers.ElectraTokenizer)\n",
    "\n",
    "Příklad slova s velkým počátečním písmenem: \"Libverda\"\n",
    "- Tokens: ['lib', '##ver', '##da'] -> IDs: [5915, 925, 372]\n",
    "- Labels: [1, 0, 0]\n",
    "\n",
    "Příklad slova s malými písmeny: \"libverda\"\n",
    "- Tokens: ['lib', '##ver', '##da'] -> IDs: [5915, 925, 372]\n",
    "- Labels: [0, 0, 0]"
   ]
  },
  {
   "cell_type": "code",
   "execution_count": 29,
   "id": "f5d6ea4c",
   "metadata": {
    "ExecuteTime": {
     "end_time": "2024-04-06T13:45:33.727546400Z",
     "start_time": "2024-04-06T12:28:44.875273400Z"
    }
   },
   "outputs": [
    {
     "name": "stderr",
     "output_type": "stream",
     "text": [
      "Tokenizace:   0%|          | 65/746797 [1:16:48<14706:39:48, 70.90s/it]\n"
     ]
    },
    {
     "ename": "KeyboardInterrupt",
     "evalue": "",
     "output_type": "error",
     "traceback": [
      "\u001B[1;31m---------------------------------------------------------------------------\u001B[0m",
      "\u001B[1;31mKeyboardInterrupt\u001B[0m                         Traceback (most recent call last)",
      "Cell \u001B[1;32mIn[29], line 22\u001B[0m\n\u001B[0;32m     18\u001B[0m             labels\u001B[38;5;241m.\u001B[39mappend(\u001B[38;5;241m0\u001B[39m \u001B[38;5;28;01mif\u001B[39;00m i \u001B[38;5;241m==\u001B[39m \u001B[38;5;241m0\u001B[39m \u001B[38;5;129;01mand\u001B[39;00m word\u001B[38;5;241m.\u001B[39mislower() \u001B[38;5;28;01melse\u001B[39;00m \u001B[38;5;241m1\u001B[39m)\n\u001B[0;32m     20\u001B[0m     \u001B[38;5;28;01mreturn\u001B[39;00m tokens, labels\n\u001B[1;32m---> 22\u001B[0m validation_tokens, validation_labels \u001B[38;5;241m=\u001B[39m \u001B[43mtokenization\u001B[49m\u001B[43m(\u001B[49m\u001B[43mvalidation_data\u001B[49m\u001B[43m,\u001B[49m\u001B[43m \u001B[49m\u001B[43mtokenizer\u001B[49m\u001B[43m)\u001B[49m\n\u001B[0;32m     23\u001B[0m train_tokens, train_labels \u001B[38;5;241m=\u001B[39m tokenization(train_data, tokenizer)\n\u001B[0;32m     25\u001B[0m \u001B[38;5;66;03m# KONTROLA: len(validation_tokens) == len(validation_labels) == 1033970\u001B[39;00m\n",
      "Cell \u001B[1;32mIn[29], line 15\u001B[0m, in \u001B[0;36mtokenization\u001B[1;34m(data, tokenizer)\u001B[0m\n\u001B[0;32m     12\u001B[0m labels \u001B[38;5;241m=\u001B[39m []\n\u001B[0;32m     14\u001B[0m \u001B[38;5;28;01mfor\u001B[39;00m word \u001B[38;5;129;01min\u001B[39;00m tqdm(data, desc\u001B[38;5;241m=\u001B[39m\u001B[38;5;124m\"\u001B[39m\u001B[38;5;124mTokenizace\u001B[39m\u001B[38;5;124m\"\u001B[39m, mininterval\u001B[38;5;241m=\u001B[39m\u001B[38;5;241m1.0\u001B[39m):\n\u001B[1;32m---> 15\u001B[0m     tokenized_word \u001B[38;5;241m=\u001B[39m \u001B[43mtokenizer\u001B[49m\u001B[38;5;241m.\u001B[39mtokenize(word)\n\u001B[0;32m     16\u001B[0m     \u001B[38;5;28;01mfor\u001B[39;00m i, subword \u001B[38;5;129;01min\u001B[39;00m \u001B[38;5;28menumerate\u001B[39m(tokenized_word):\n\u001B[0;32m     17\u001B[0m         tokens\u001B[38;5;241m.\u001B[39mappend(subword)\n",
      "Cell \u001B[1;32mIn[29], line 15\u001B[0m, in \u001B[0;36mtokenization\u001B[1;34m(data, tokenizer)\u001B[0m\n\u001B[0;32m     12\u001B[0m labels \u001B[38;5;241m=\u001B[39m []\n\u001B[0;32m     14\u001B[0m \u001B[38;5;28;01mfor\u001B[39;00m word \u001B[38;5;129;01min\u001B[39;00m tqdm(data, desc\u001B[38;5;241m=\u001B[39m\u001B[38;5;124m\"\u001B[39m\u001B[38;5;124mTokenizace\u001B[39m\u001B[38;5;124m\"\u001B[39m, mininterval\u001B[38;5;241m=\u001B[39m\u001B[38;5;241m1.0\u001B[39m):\n\u001B[1;32m---> 15\u001B[0m     tokenized_word \u001B[38;5;241m=\u001B[39m \u001B[43mtokenizer\u001B[49m\u001B[38;5;241m.\u001B[39mtokenize(word)\n\u001B[0;32m     16\u001B[0m     \u001B[38;5;28;01mfor\u001B[39;00m i, subword \u001B[38;5;129;01min\u001B[39;00m \u001B[38;5;28menumerate\u001B[39m(tokenized_word):\n\u001B[0;32m     17\u001B[0m         tokens\u001B[38;5;241m.\u001B[39mappend(subword)\n",
      "File \u001B[1;32m_pydevd_bundle\\pydevd_cython_win32_39_64.pyx:1187\u001B[0m, in \u001B[0;36m_pydevd_bundle.pydevd_cython_win32_39_64.SafeCallWrapper.__call__\u001B[1;34m()\u001B[0m\n",
      "File \u001B[1;32m_pydevd_bundle\\pydevd_cython_win32_39_64.pyx:627\u001B[0m, in \u001B[0;36m_pydevd_bundle.pydevd_cython_win32_39_64.PyDBFrame.trace_dispatch\u001B[1;34m()\u001B[0m\n",
      "File \u001B[1;32m_pydevd_bundle\\pydevd_cython_win32_39_64.pyx:937\u001B[0m, in \u001B[0;36m_pydevd_bundle.pydevd_cython_win32_39_64.PyDBFrame.trace_dispatch\u001B[1;34m()\u001B[0m\n",
      "File \u001B[1;32m_pydevd_bundle\\pydevd_cython_win32_39_64.pyx:928\u001B[0m, in \u001B[0;36m_pydevd_bundle.pydevd_cython_win32_39_64.PyDBFrame.trace_dispatch\u001B[1;34m()\u001B[0m\n",
      "File \u001B[1;32m_pydevd_bundle\\pydevd_cython_win32_39_64.pyx:585\u001B[0m, in \u001B[0;36m_pydevd_bundle.pydevd_cython_win32_39_64.PyDBFrame.do_wait_suspend\u001B[1;34m()\u001B[0m\n",
      "File \u001B[1;32mC:\\Program Files\\JetBrains\\PyCharm 2023.1.2\\plugins\\python\\helpers\\pydev\\pydevd.py:1184\u001B[0m, in \u001B[0;36mPyDB.do_wait_suspend\u001B[1;34m(self, thread, frame, event, arg, send_suspend_message, is_unhandled_exception)\u001B[0m\n\u001B[0;32m   1181\u001B[0m         from_this_thread\u001B[38;5;241m.\u001B[39mappend(frame_id)\n\u001B[0;32m   1183\u001B[0m \u001B[38;5;28;01mwith\u001B[39;00m \u001B[38;5;28mself\u001B[39m\u001B[38;5;241m.\u001B[39m_threads_suspended_single_notification\u001B[38;5;241m.\u001B[39mnotify_thread_suspended(thread_id, stop_reason):\n\u001B[1;32m-> 1184\u001B[0m     \u001B[38;5;28;43mself\u001B[39;49m\u001B[38;5;241;43m.\u001B[39;49m\u001B[43m_do_wait_suspend\u001B[49m\u001B[43m(\u001B[49m\u001B[43mthread\u001B[49m\u001B[43m,\u001B[49m\u001B[43m \u001B[49m\u001B[43mframe\u001B[49m\u001B[43m,\u001B[49m\u001B[43m \u001B[49m\u001B[43mevent\u001B[49m\u001B[43m,\u001B[49m\u001B[43m \u001B[49m\u001B[43marg\u001B[49m\u001B[43m,\u001B[49m\u001B[43m \u001B[49m\u001B[43msuspend_type\u001B[49m\u001B[43m,\u001B[49m\u001B[43m \u001B[49m\u001B[43mfrom_this_thread\u001B[49m\u001B[43m)\u001B[49m\n",
      "File \u001B[1;32mC:\\Program Files\\JetBrains\\PyCharm 2023.1.2\\plugins\\python\\helpers\\pydev\\pydevd.py:1199\u001B[0m, in \u001B[0;36mPyDB._do_wait_suspend\u001B[1;34m(self, thread, frame, event, arg, suspend_type, from_this_thread)\u001B[0m\n\u001B[0;32m   1196\u001B[0m             \u001B[38;5;28mself\u001B[39m\u001B[38;5;241m.\u001B[39m_call_mpl_hook()\n\u001B[0;32m   1198\u001B[0m         \u001B[38;5;28mself\u001B[39m\u001B[38;5;241m.\u001B[39mprocess_internal_commands()\n\u001B[1;32m-> 1199\u001B[0m         \u001B[43mtime\u001B[49m\u001B[38;5;241;43m.\u001B[39;49m\u001B[43msleep\u001B[49m\u001B[43m(\u001B[49m\u001B[38;5;241;43m0.01\u001B[39;49m\u001B[43m)\u001B[49m\n\u001B[0;32m   1201\u001B[0m \u001B[38;5;28mself\u001B[39m\u001B[38;5;241m.\u001B[39mcancel_async_evaluation(get_current_thread_id(thread), \u001B[38;5;28mstr\u001B[39m(\u001B[38;5;28mid\u001B[39m(frame)))\n\u001B[0;32m   1203\u001B[0m \u001B[38;5;66;03m# process any stepping instructions\u001B[39;00m\n",
      "\u001B[1;31mKeyboardInterrupt\u001B[0m: "
     ]
    }
   ],
   "source": [
    "# Incializace tokenizéru\n",
    "\n",
    "tokenizer = ElectraTokenizer.from_pretrained(\"Seznam/small-e-czech\", special=False)\n",
    "\n",
    "# Funkce pro tokenizaci\n",
    "# Funkce přijímá list slov a vrací jeden list s tokeny a jeden list s labely (u prvního tokenu 0 pro lower-case, 1 pro upper-case)\n",
    "\n",
    "# U tokenizeru je nutné vypnout přidávání speciálních tokenů\n",
    "\n",
    "def tokenization(data, tokenizer) -> [list, list]:\n",
    "    tokens = []\n",
    "    labels = []\n",
    "\n",
    "    for word in tqdm(data, desc=\"Tokenizace\", mininterval=1.0):\n",
    "        tokenized_word = tokenizer.tokenize(word)\n",
    "        for i, subword in enumerate(tokenized_word):\n",
    "            tokens.append(subword)\n",
    "            labels.append(0 if i == 0 and word.islower() else 1)\n",
    "        \n",
    "    return tokens, labels\n",
    "\n",
    "validation_tokens, validation_labels = tokenization(validation_data, tokenizer)\n",
    "train_tokens, train_labels = tokenization(train_data, tokenizer)\n",
    "\n",
    "# KONTROLA: len(validation_tokens) == len(validation_labels) == 1033970\n",
    "print(len(validation_tokens))\n",
    "print(len(validation_labels))"
   ]
  },
  {
   "cell_type": "markdown",
   "id": "90f7fa6d",
   "metadata": {},
   "source": [
    "### Generátor Batchů\n",
    "\n",
    "Funkce `batch_generator` slouží k vytváření batchů z tokenů a labelů pro efektivnější trénování modelu. Batche jsou tvořeny tak, že se rozdělí tokeny a labely na sekvence s pevnou délkou a následně se seskupí do menších skupin (batche) určené velikostí `batch_size`. Každý batch obsahuje také masku, která umožňuje modelu rozlišit relevantní tokeny od paddingu. V tomto případě, kdy mají batche konstantní délku, mají všechny tokeny masku nastavenou na 1.\n",
    "\n",
    "Příklad použití:\n",
    "`train_generator = batch_generator(train_tokens, train_labels, batch_size=8, length=128)`\n",
    "Toto vytvoří generátor pro trénovací data s velikostí batche 8 a délkou sekvence 128 tokenů."
   ]
  },
  {
   "cell_type": "code",
   "execution_count": null,
   "id": "b1878f21",
   "metadata": {},
   "outputs": [],
   "source": [
    "# Generátor batchů\n",
    "\n",
    "# token_tensor.shape == mask_tensor.shape == label_tensor.shape == [8,128]\n",
    "\n",
    "BATCH_SIZE = 8\n",
    "SEQ_LEN = 128\n",
    "\n",
    "def batch_generator(tokens, labels, batch_size = 8, length = 128) -> [torch.Tensor, torch.Tensor, torch.Tensor]:\n",
    "\n",
    "    token_sequences = ...\n",
    "    label_sequences = ...\n",
    "    batch_count = ...  # Nezapočítavejte a nepoužívejte poslední sekvenci, která neodpovídá požadované délce\n",
    "    \n",
    "    # KONTROLA: bacht_count == 19258\n",
    "\n",
    "    while(True):\n",
    "        for i in range(batch_count):\n",
    "            \n",
    "            ...\n",
    "\n",
    "            yield token_tensor, mask_tensor, label_tensor\n",
    "    \n",
    "\n",
    "\n",
    "\n",
    "train_generator = batch_generator(train_tokens, train_labels, BATCH_SIZE, SEQ_LEN)\n",
    "\n",
    "test_batch = next(train_generator)\n",
    "\n",
    "## KONTROLA: test_batch[0][1][2] == tensor(1046, dtype=torch.int32)\n",
    "\n"
   ]
  },
  {
   "cell_type": "markdown",
   "id": "ba612f39",
   "metadata": {},
   "source": [
    "### Nastavení Trénovacích Parametrů\n",
    "\n",
    "Pro trénování modelu používáme křížovou entropii (`nn.CrossEntropyLoss`) jako ztrátovou funkci, která je vhodná pro klasifikační úlohy. Jako optimalizační algoritmus zvolíme Adam (`optim.Adam`), který je populární díky své efektivitě a adaptivním vlastnostem. Learning rate je nastaven na 1e-4."
   ]
  },
  {
   "cell_type": "code",
   "execution_count": null,
   "id": "c396ac8f",
   "metadata": {},
   "outputs": [],
   "source": [
    "# Nastavení trénovacích parametrů\n",
    "\n",
    "criterion = nn.CrossEntropyLoss()\n",
    "\n",
    "optimizer = optim.Adam(capitalization_model.parameters(), lr=1e-4)\n"
   ]
  },
  {
   "cell_type": "markdown",
   "id": "711d7293",
   "metadata": {},
   "source": [
    "### Testovací Dopředný Průchod Modelem\n",
    "\n",
    "Pro testování funkčnosti modelu provedeme dopředný průchod s využitím jednoho batche z trénovacích dat. Nejprve vynulujeme gradienty v optimalizátoru, aby se zabránilo jejich nechtěné akumulaci. Poté načteme jeden batch dat pomocí `batch_generator` a provedeme dopředný průchod modelem s těmito daty. Výstup modelu je permutován pro splnění očekávaných rozměrů ztrátové funkce, na kterou aplikujeme vypočítanou ztrátu. Nakonec provedeme krok optimalizace.\n",
    "\n",
    "F1 metrika je harmonický průměr přesnosti (precision) a úplnosti (recall), který se často používá jako metrika pro hodnocení klasifikačních modelů, zejména v případech, kde je nerovnováha tříd. F1 skóre dosahuje své nejlepší hodnoty u 1 (perfektní přesnost a úplnost) a nejhorší u 0."
   ]
  },
  {
   "cell_type": "code",
   "execution_count": null,
   "id": "e07f9759",
   "metadata": {},
   "outputs": [],
   "source": [
    "# Iterace trénování modelu\n",
    "\n",
    "optimizer.zero_grad() # Vynulování gradientů v optimalizátoru, aby se předešlo akumulaci při více iteracích\n",
    "\n",
    "train_generator = batch_generator(train_tokens, train_labels, 8, 128)\n",
    "\n",
    "inputs, masks, labels = ...\n",
    "\n",
    "output = ... # Dopředný průchod modelem\n",
    "output = output.permute(0,2,1) # Permutace výstupu modelu pro splnění očekávaných rozměrů pro loss kritérium\n",
    "\n",
    "loss = ... # Výpočet ztráty mezi predikcemi a skutečnými labely\n",
    "\n",
    "optimizer.step()"
   ]
  },
  {
   "cell_type": "code",
   "execution_count": null,
   "id": "cedc305b",
   "metadata": {},
   "outputs": [],
   "source": [
    "# Incializace grafů a pomocných proměnných pro vykreslování\n",
    "fig, (ax1, ax2) = plt.subplots(1, 2, figsize=(15, 5))\n",
    "\n",
    "ax1.set_title('F1 skóre každých 500 batchů')\n",
    "ax1.set_xlabel('Batch')\n",
    "ax1.set_ylabel('F1 skóre')\n",
    "\n",
    "ax2.set_title('Loss každých 500 batchů')\n",
    "ax2.set_xlabel('Batch')\n",
    "ax2.set_ylabel('Loss')\n",
    "\n",
    "running_loss = 0\n",
    "running_f1 = 0\n",
    "\n",
    "loss_values = []\n",
    "f1_scores = []\n",
    "\n",
    "# Nastavení počtu interací pro trénování\n",
    "t = trange(50000, desc=\"Training\", mininterval=0.5)\n",
    "\n",
    "# Trénovací smyčka\n",
    "for i in t:\n",
    "\n",
    "    ... # Zde doplnit (viz. iterace modelu)\n",
    "    \n",
    "    running_loss += loss.item()\n",
    "    f1 = f1_score(torch.argmax(output.clone().detach().cpu(),1).view(-1),labels.view(-1), average=None)\n",
    "    running_f1 += f1[1]\n",
    "    t.set_description(f\"Training Loss: {(running_loss/(i+1)):.4f} F1 skóre: {(running_f1/(i+1)):.4f}\", refresh=True)\n",
    "    t.refresh()\n",
    "    \n",
    "    if (i+1) % 500 == 0:  # Každých 500 batchů\n",
    "        f1_scores.append(f1/(i+1))\n",
    "        loss_values.append(loss/(i+1))\n",
    "        \n",
    "        # Vymazání předchozích grafů\n",
    "        ax1.clear()\n",
    "        ax2.clear()\n",
    "\n",
    "        # Nastavení titulků a os pro oba grafy\n",
    "        ax1.set_title('F1 skóre každých 500 batchů')\n",
    "        ax1.set_xlabel('Batch (x500)')\n",
    "        ax1.set_ylabel('F1 skóre')\n",
    "        ax2.set_title('Loss každých 500 batchů')\n",
    "        ax2.set_xlabel('Batch (x500)')\n",
    "        ax2.set_ylabel('Loss')\n",
    "\n",
    "        # Aktualizace grafu pro F1 skóre\n",
    "        ax1.plot(f1_scores, '-o', label='F1 skóre')\n",
    "        ax1.legend()\n",
    "\n",
    "        # Aktualizace grafu pro Loss\n",
    "        ax2.plot(loss_values, '-o', label='Loss')\n",
    "        ax2.legend()\n",
    "\n",
    "        clear_output(wait=True)\n",
    "        display(fig)  # Zobrazí aktuální figuru s oběma grafy\n",
    "\n",
    "\n"
   ]
  },
  {
   "attachments": {
    "image.png": {
     "image/png": "[encoded data removed]"
    }
   },
   "cell_type": "markdown",
   "id": "fa1c8290",
   "metadata": {},
   "source": [
    "Očekávaný graf pro loss a F1 skóre (5000x batch).\n",
    "\n",
    "![image.png](attachment:image.png)"
   ]
  },
  {
   "cell_type": "code",
   "execution_count": null,
   "id": "1422f701",
   "metadata": {},
   "outputs": [],
   "source": [
    "# Funkce, která na vstupu přijme text a na výstupu vygeneruje text, který bude včetně kapitalizace\n",
    "def capitalize(text,model,tokenizer) -> str:\n",
    "    capitalization_model.eval()\n",
    "\n",
    "    ...\n",
    "    \n",
    "    return text_output"
   ]
  },
  {
   "cell_type": "code",
   "execution_count": null,
   "id": "11eaa974",
   "metadata": {},
   "outputs": [],
   "source": [
    "input_text = \"víteje v liberci, kterým vás provede pan kovář.\"\n",
    "print(capitalize(input_text, capitalization_model, tokenizer))"
   ]
  },
  {
   "cell_type": "markdown",
   "id": "67661dc7",
   "metadata": {},
   "source": [
    "## Bonus\n",
    "\n",
    "Upravte funkci tokenization tak, aby místo zvětšování písmen dokázala generovat interpunkční znaménka (tečka, čárka a otazník).\n",
    "\n",
    "Pro zjednodušení uvažujte pouze varianty, kdy se interpunkční znaménko nachází na konci slova (např. \"konec?\").\n",
    "\n",
    "Celkem tak bude probíhat klasifikace do 4 tříd (Bez interpunkce, Otazník, Tečka, Čárka).\n",
    "\n",
    "Následně vytvořte funkci punctuation, která do textu doplní interpunkci."
   ]
  },
  {
   "cell_type": "code",
   "execution_count": null,
   "id": "fe77093a",
   "metadata": {},
   "outputs": [],
   "source": []
  }
 ],
 "metadata": {
  "kernelspec": {
   "display_name": "Python 3 (ipykernel)",
   "language": "python",
   "name": "python3"
  },
  "language_info": {
   "codemirror_mode": {
    "name": "ipython",
    "version": 3
   },
   "file_extension": ".py",
   "mimetype": "text/x-python",
   "name": "python",
   "nbconvert_exporter": "python",
   "pygments_lexer": "ipython3",
   "version": "3.9.18"
  }
 },
 "nbformat": 4,
 "nbformat_minor": 5
}
